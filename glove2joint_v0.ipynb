{
 "cells": [
  {
   "cell_type": "markdown",
   "id": "67f1f61e",
   "metadata": {},
   "source": [
    "This code is designed to calibrate my motion tracking glove, which records joint angles but in arbitrary units; the arbitrary units linearly map to the actual joint angles, but the exact line varies by subject. So the objective here is to map the glove measurements to \"ground truth\" joint angles recorded simultaneously.\n",
    "\n",
    "This `v0` notebook _resembles_ some actual code Alfred wrote for me, and he has generously volunteered to be personally victimized by yours truly for pedagogical purposes. \"Resembles\" means that I've already made some changes to (a) remove code we're not going to talk about today, (b) moved some code blocks around to a better order for presentation, and (c) made some fixes that are easier to illustrate side-by-side than by creating a new \"version\" of the code, as I will for more substantive changes. "
   ]
  },
  {
   "cell_type": "code",
   "execution_count": 1,
   "id": "63e7fecb",
   "metadata": {},
   "outputs": [],
   "source": [
    "from scipy.interpolate import interp1d\n",
    "import matplotlib.pyplot as plt\n",
    "from collections import OrderedDict\n",
    "from re import findall\n",
    "import pandas as pd\n",
    "import numpy as np \n",
    "import os\n",
    "\n",
    "from sklearn.preprocessing import StandardScaler\n",
    "from sklearn.linear_model import Ridge\n",
    "\n",
    "from bids import BIDSLayout"
   ]
  },
  {
   "cell_type": "markdown",
   "id": "f49559a9",
   "metadata": {},
   "source": [
    "Okay, first major comment. The directories for the data files were originally specified as follows:\n",
    "\n",
    "```\n",
    "#base directory\n",
    "bdir = r'C:\\\\Users\\\\Alfred\\\\Desktop\\\\ENL\\\\John\\\\'\n",
    "#data directory\n",
    "ddir = f\"{bdir}\\\\data\\\\\"\n",
    "```\n",
    "\n",
    "Obviously, these filepaths will only work on Alfred's machine, since they're absolute filepaths. It would be better to use relative filepaths (i.e. relative to the working directory, which is by default the folder you're running your code from). So in this case, the following would have been sufficient (and would work on all machines):\n",
    "\n",
    "```\n",
    "ddir = 'data'\n",
    "```\n",
    "\n",
    "If you _do_ need to access a nested directory, you shouldn't use \"joiners\" `\\`, `\\\\`, or `/` directly, as these are all operating system specific. So instead of:\n",
    "```\n",
    "ddir = f\"{bdir}\\\\data\\\\\"\n",
    "```\n",
    "it would be better to use:\n",
    "```\n",
    "ddir = os.path.join(bdir, 'data')\n",
    "```\n",
    "\n",
    "assuming `bdir` is a valid path. `os.path.join` will always use the appropriate joiner for the current operating system.\n",
    "\n",
    "And, of course, if you hard-code any filepaths (or hard-code anything else important), please be so kind as to put them near the top of your script/notebook AND IN ALL CAPS, so they're easy to find if they need to be changed. "
   ]
  },
  {
   "cell_type": "code",
   "execution_count": 2,
   "id": "8ea3d616",
   "metadata": {},
   "outputs": [],
   "source": [
    "DATA_DIR = 'bids_pilot'\n",
    "SUBJECT = '01'"
   ]
  },
  {
   "cell_type": "markdown",
   "id": "ee65203c",
   "metadata": {},
   "source": [
    "But we actually won't be using any of the above methods to find filepaths. Since Alfred wrote his code, I organized the data into a [Brain Imaging Data Structure](https://bids-specification.readthedocs.io/en/stable/modality-specific-files/motion.html) directory I named `'bids_pilot'`, which means we can now conveniently grab filepaths using the _pybids_ package. "
   ]
  },
  {
   "cell_type": "code",
   "execution_count": 3,
   "id": "cbde45a6",
   "metadata": {},
   "outputs": [
    {
     "data": {
      "text/plain": [
       "['sub-01_task-calibration_tracksys-glove_run-1_motion.tsv',\n",
       " 'sub-01_task-calibration_tracksys-glove_run-2_motion.tsv',\n",
       " 'sub-01_task-calibration_tracksys-leap_run-1_motion.tsv',\n",
       " 'sub-01_task-calibration_tracksys-leap_run-2_motion.tsv']"
      ]
     },
     "execution_count": 3,
     "metadata": {},
     "output_type": "execute_result"
    }
   ],
   "source": [
    "# initialize helper to navigate BIDS directory\n",
    "layout = BIDSLayout(DATA_DIR)\n",
    "\n",
    "# show calibration data files for first pilot subject\n",
    "files = layout.get(\n",
    "    subject = SUBJECT,\n",
    "    task = 'calibration', \n",
    "    suffix = 'motion', \n",
    "    extension = 'tsv',\n",
    ")\n",
    "[f.filename for f in files]"
   ]
  },
  {
   "cell_type": "markdown",
   "id": "a831fa2f",
   "metadata": {},
   "source": [
    "I ultimately want to import my motion tracking data into a simulation software called MyoSuite, but it uses different names from the Leap Motion sensor we're using to record the \"ground truth\" joint angles -- so we have to specify the mapping between them.\n",
    "\n",
    "The mapping was originally specified with a dictionary as below:"
   ]
  },
  {
   "cell_type": "code",
   "execution_count": 4,
   "id": "4175c2b6",
   "metadata": {},
   "outputs": [],
   "source": [
    "## joint mappings from MyoSuite hand model nomenclature\n",
    "## to RoSeMotion's nomenclature used in Leap data\n",
    "\n",
    "joint_map = {\n",
    "    # flexion and adduction are mixed up in MyoSuite,\n",
    "    # but just for thumb, see:\n",
    "    # https://github.com/MyoHub/myosuite/issues/112\n",
    "    'cmc_abduction': 'RightHandThumb2_Xrotation',\n",
    "    'cmc_flexion': 'RightHandThumb2_Zrotation',\n",
    "    # everything else should be flex about x-axis,\n",
    "    # and abductions about z-axis\n",
    "    'mp_flexion': 'RightHandThumb3_Xrotation',\n",
    "    'ip_flexion': 'RightHandThumb4_Xrotation',\n",
    "    'mcp2_flexion': 'RightHandIndex2_Xrotation',\n",
    "    'mcp2_abduction': 'RightHandIndex2_Zrotation',\n",
    "    'pm2_flexion': 'RightHandIndex3_Xrotation',\n",
    "    'md2_flexion': 'RightHandIndex4_Xrotation',\n",
    "    'mcp3_flexion': 'RightHandMiddle2_Xrotation',\n",
    "    'mcp3_abduction': 'RightHandMiddle2_Zrotation',\n",
    "    'pm3_flexion': 'RightHandMiddle3_Xrotation',\n",
    "    'md3_flexion': 'RightHandMiddle4_Xrotation',\n",
    "    'mcp4_flexion': 'RightHandRing2_Xrotation',\n",
    "    'mcp4_abduction': 'RightHandRing2_Zrotation',\n",
    "    'pm4_flexion': 'RightHandRing3_Xrotation',\n",
    "    'md4_flexion': 'RightHandRing4_Xrotation',\n",
    "    'mcp5_flexion': 'RightHandPinky2_Xrotation',\n",
    "    'mcp5_abduction': 'RightHandPinky2_Zrotation',\n",
    "    'pm5_flexion': 'RightHandPinky3_Xrotation',\n",
    "    'md5_flexion':'RightHandPinky4_Xrotation'\n",
    "}"
   ]
  },
  {
   "cell_type": "markdown",
   "id": "aa4dde8d",
   "metadata": {},
   "source": [
    "I think it's _fine_ to specify the joint angle mapping manually (especially if you're just doing it once, then you do you). However, this approach is definitely error prone, so we should double check to ensure we didn't make any mistakes. "
   ]
  },
  {
   "cell_type": "code",
   "execution_count": 5,
   "id": "2aa46d84",
   "metadata": {},
   "outputs": [
    {
     "name": "stdout",
     "output_type": "stream",
     "text": [
      "['cmc_abduction', 'cmc_flexion']\n"
     ]
    }
   ],
   "source": [
    "## check consistency of joint names\n",
    "# in case we made an error\n",
    "problems = []\n",
    "for key, val in joint_map.items():\n",
    "    if 'flexion' in key and not 'X' in val:\n",
    "        problems.append(key)\n",
    "    if 'abduction' in key and 'Z' not in val:\n",
    "        problems.append(key)\n",
    "    if 'Index' in val and '2' not in key:\n",
    "        problems.append(key)\n",
    "    if 'Middle' in val and '3' not in key:\n",
    "        problems.append(key)\n",
    "    if 'Ring' in val and '4' not in key:\n",
    "        problems.append(key)\n",
    "    if 'Pinky' in val and '5' not in key:\n",
    "        problems.append(key)\n",
    "# only cmc joint should be flagged\n",
    "assert(len(problems) == 2)\n",
    "assert(all(['cmc' in name for name in problems]))\n",
    "print(problems)"
   ]
  },
  {
   "cell_type": "markdown",
   "id": "23e86136",
   "metadata": {},
   "source": [
    "If you've never used an assertion before, all `assert(condition)` does is raise an error if `condition` is `False`.\n",
    "\n",
    "Assertions are a nice way to codify your intuitions about what _should_ be true in your code into an ad-hoc test. If everytime you think \"Okay, this variable should be something like **\\*insert statement here\\***,\" you add an assertion, you are far more likely to catch errors that may otherwise be hidden if you only ever look at the end result of your scripts. (And when you _do_ catch errors, they'll be way easier to debug.)\n",
    "\n",
    "In this case, though, the fact that I'm able to identify error so systematically above suggests I could probably be generating the joint mapping programmatically instead. (The fact the mapping was entered manually before is my bad, since that's how I sent Alfred the mapping intially.) So I'll implement that real quick. "
   ]
  },
  {
   "cell_type": "code",
   "execution_count": 6,
   "id": "6560f856",
   "metadata": {},
   "outputs": [],
   "source": [
    "fingers = {\n",
    "    '2': 'Index',\n",
    "    '3': 'Middle',\n",
    "    '4': 'Ring',\n",
    "    '5': 'Pinky'\n",
    "}\n",
    "knuckles = {\n",
    "    'mcp': '2',\n",
    "    'pm': '3',\n",
    "    'md': '4'\n",
    "}\n",
    "\n",
    "def map_to_leap(joint_nm):\n",
    "    info = findall('(\\w+)(\\d)_(\\w+)', joint_nm)[0]\n",
    "    name = 'RightHand'\n",
    "    name += fingers[info[1]]\n",
    "    name += knuckles[info[0]]\n",
    "    name += '_X' if info[2] == 'flexion' else '_Z'\n",
    "    name += 'rotation'\n",
    "    return name\n",
    "\n",
    "mapping = OrderedDict()\n",
    "\n",
    "## thumb is special so we specify manually:\n",
    "# flexion and adduction are mixed up in MyoSuite,\n",
    "# but just for CMC joint, see\n",
    "# https://github.com/MyoHub/myosuite/issues/112\n",
    "mapping['cmc_abduction'] = 'RightHandThumb2_Xrotation'\n",
    "mapping['cmc_flexion'] = 'RightHandThumb2_Zrotation'\n",
    "mapping['mp_flexion'] = 'RightHandThumb3_Xrotation'\n",
    "mapping['ip_flexion'] = 'RightHandThumb4_Xrotation'\n",
    "\n",
    "# the rest of the fingers, we can automate\n",
    "for f in [2, 3, 4, 5]: \n",
    "    mapping['mcp%d_flexion'%f] = map_to_leap('mcp%d_flexion'%f)\n",
    "    mapping['mcp%d_abduction'%f] = map_to_leap('mcp%d_abduction'%f)\n",
    "    mapping['pm%d_flexion'%f] = map_to_leap('pm%d_flexion'%f)\n",
    "    mapping['md%d_flexion'%f] = map_to_leap('md%d_flexion'%f)\n",
    "    \n",
    "for key0, key1 in zip(joint_map, mapping):\n",
    "    # check key order is the same\n",
    "    assert(key0 == key1) \n",
    "    # check that mapping is the same\n",
    "    assert(joint_map[key0] == mapping[key1]) \n",
    "\n",
    "    \n",
    "joint_map = mapping # use OrderedDict for reliability"
   ]
  },
  {
   "cell_type": "markdown",
   "id": "6602ba0f",
   "metadata": {},
   "source": [
    "Okay, so that change didn't actually save that many lines of code. I don't actually _hate_ specifying the mapping manually as before, as long as there are some assertions to catch errors. If that's much faster for you to implement, then go ahead. \n",
    "\n",
    "However, I do slightly prefer the programmatic version. It's just a bit more transparent as to where the mapping comes from. (Readability is always the goal -- not reducing code length.) And if I ever need to change the mapping (e.g. if that MyoSuite bug I point out in the comments is fixed), it'll be easier to do.\n",
    "\n",
    "The other change I made, if you're paying extra close attention, is I used an `OrderedDict` instead of the base dictionary datatype. If you're using Python 3.7+, this won't matter, but the base dictionary type doesn't always preserve the order of the keys in older versions of Python. I still use `OrderedDict` for compatibility, but you may feel fine ignoring this (especially if you're using packages that require Python >3.6 anyway).\n",
    "\n",
    "Okay, now we load our data from each calibration run into a dictionary, here called `rd`. (You may be able to guess what I think about _that_ variable name.)"
   ]
  },
  {
   "cell_type": "code",
   "execution_count": 7,
   "id": "56f92b99",
   "metadata": {},
   "outputs": [],
   "source": [
    "rd = {}\n",
    "\n",
    "run_idxs = layout.get_runs(subject = SUBJECT, task = 'calibration')\n",
    "for run in run_idxs:\n",
    "    \n",
    "    rd[run] = {} \n",
    "    \n",
    "    glove_f, joint_f = layout.get(\n",
    "        subject = SUBJECT,\n",
    "        task = 'calibration',\n",
    "        run = run,\n",
    "        suffix = 'motion', \n",
    "        extension = 'tsv'\n",
    "    )\n",
    "    joint_data = joint_f.get_df()\n",
    "    glove_data = glove_f.get_df()\n",
    "    \n",
    "    joint_data = joint_data[(joint_data.LATENCY >= glove_data.LATENCY.min()) & (joint_data.LATENCY <= glove_data.LATENCY.max())]\n",
    "    \n",
    "    glove_interp = {}\n",
    "    \n",
    "    for c in glove_data.columns[:-1]: \n",
    "        interp_f = interp1d(glove_data.LATENCY, glove_data[c])\n",
    "        interpd = interp_f(joint_data.LATENCY)\n",
    "        glove_interp[c] = interpd\n",
    "\n",
    "    glove_data_interpd = pd.DataFrame(glove_interp)\n",
    "    \n",
    "    \n",
    "    rd[run]['data'] = {\n",
    "        'joint':joint_data,\n",
    "        'glove':glove_data_interpd\n",
    "    }\n"
   ]
  },
  {
   "cell_type": "markdown",
   "id": "3fa086cb",
   "metadata": {},
   "source": [
    "And now we want to fit a linear model to map joint angles in one run and test it on the other, then vice versa. We find it works best to intentionally \"overfit\" and incorporate all glove sensors as predictors. This is actually necessary for the Distal Interphalangeal Joints, for which the glove doesn't even have sensors, but it helps even for joints the glove ostensibly measures directly."
   ]
  },
  {
   "cell_type": "code",
   "execution_count": 8,
   "id": "40aa90b4",
   "metadata": {},
   "outputs": [],
   "source": [
    "## run 1 <--> run 2 cross-validation\n",
    "\n",
    "gof = {\n",
    "    val: {\n",
    "        'glove':[c for c in glove_data.columns][:-1], \n",
    "        'joint': val\n",
    "    } for key, val in joint_map.items()\n",
    "}\n",
    "\n",
    "out_of = {}\n",
    "\n",
    "for order,name in zip([(1,2),(2,1)],['session1>session2','session2>session1']):\n",
    "    \n",
    "    out_of[name] = {}\n",
    "\n",
    "    for i in gof:\n",
    "        \n",
    "        x_train = rd[order[0]]['data']['glove'][gof[i]['glove']]\n",
    "        x_test = rd[order[1]]['data']['glove'][gof[i]['glove']]\n",
    "\n",
    "        y_train = rd[order[0]]['data']['joint'][gof[i]['joint']]\n",
    "        y_test = rd[order[1]]['data']['joint'][gof[i]['joint']]\n",
    "\n",
    "        x_scaler = StandardScaler()\n",
    "        rr = Ridge()\n",
    "\n",
    "        x_train_scaled = pd.DataFrame(x_scaler.fit_transform(x_train),columns=x_train.columns)\n",
    "        x_test_scaled = pd.DataFrame(x_scaler.transform(x_test),columns=x_test.columns)\n",
    "\n",
    "        rr.fit(x_train_scaled,y_train)\n",
    "        this_r2 = rr.score(x_test_scaled,y_test)\n",
    "\n",
    "        out_of[name][i] = {#'model':rr,\n",
    "                  #'scaler':x_scaler,\n",
    "                  'r2':this_r2}"
   ]
  },
  {
   "cell_type": "code",
   "execution_count": 9,
   "id": "9c7c74dd",
   "metadata": {},
   "outputs": [
    {
     "data": {
      "image/png": "[encoded data removed]",
      "text/plain": [
       "<Figure size 640x480 with 1 Axes>"
      ]
     },
     "metadata": {},
     "output_type": "display_data"
    }
   ],
   "source": [
    "# here look predictions :sparkles:\n",
    "y = y_train.reset_index()\n",
    "plt.plot(rr.predict(x_train_scaled), label = 'predicted')\n",
    "plt.plot(y.iloc[:,-1], label = y.columns[-1])\n",
    "plt.legend()\n",
    "plt.show()"
   ]
  },
  {
   "cell_type": "code",
   "execution_count": 10,
   "id": "abf0cd7f",
   "metadata": {},
   "outputs": [
    {
     "data": {
      "text/plain": [
       "{'session1>session2': {'RightHandThumb2_Xrotation': {'r2': 0.7515682046411829},\n",
       "  'RightHandThumb2_Zrotation': {'r2': 0.21703785364615524},\n",
       "  'RightHandThumb3_Xrotation': {'r2': 0.7423913953423907},\n",
       "  'RightHandThumb4_Xrotation': {'r2': 0.763899213120506},\n",
       "  'RightHandIndex2_Xrotation': {'r2': 0.8060823342957205},\n",
       "  'RightHandIndex2_Zrotation': {'r2': 0.7728142946430672},\n",
       "  'RightHandIndex3_Xrotation': {'r2': 0.807885685814832},\n",
       "  'RightHandIndex4_Xrotation': {'r2': 0.7865347278790403},\n",
       "  'RightHandMiddle2_Xrotation': {'r2': 0.7868052039265022},\n",
       "  'RightHandMiddle2_Zrotation': {'r2': 0.8661535518824659},\n",
       "  'RightHandMiddle3_Xrotation': {'r2': 0.6929093451745869},\n",
       "  'RightHandMiddle4_Xrotation': {'r2': 0.7356692877223505},\n",
       "  'RightHandRing2_Xrotation': {'r2': 0.9349146025501599},\n",
       "  'RightHandRing2_Zrotation': {'r2': 0.0694828607001643},\n",
       "  'RightHandRing3_Xrotation': {'r2': 0.9161072986266966},\n",
       "  'RightHandRing4_Xrotation': {'r2': 0.8574466458478448},\n",
       "  'RightHandPinky2_Xrotation': {'r2': 0.9425776647043171},\n",
       "  'RightHandPinky2_Zrotation': {'r2': 0.826952237913817},\n",
       "  'RightHandPinky3_Xrotation': {'r2': 0.8939308445525415},\n",
       "  'RightHandPinky4_Xrotation': {'r2': 0.819105294970671}},\n",
       " 'session2>session1': {'RightHandThumb2_Xrotation': {'r2': 0.6747715875691285},\n",
       "  'RightHandThumb2_Zrotation': {'r2': 0.2733063487781112},\n",
       "  'RightHandThumb3_Xrotation': {'r2': 0.7799780215638452},\n",
       "  'RightHandThumb4_Xrotation': {'r2': 0.7203575360843377},\n",
       "  'RightHandIndex2_Xrotation': {'r2': 0.6400604786620904},\n",
       "  'RightHandIndex2_Zrotation': {'r2': 0.5601855626730355},\n",
       "  'RightHandIndex3_Xrotation': {'r2': 0.5975181140367134},\n",
       "  'RightHandIndex4_Xrotation': {'r2': 0.6380246490780632},\n",
       "  'RightHandMiddle2_Xrotation': {'r2': 0.5784793019366928},\n",
       "  'RightHandMiddle2_Zrotation': {'r2': 0.7491602415363532},\n",
       "  'RightHandMiddle3_Xrotation': {'r2': 0.4183887979568276},\n",
       "  'RightHandMiddle4_Xrotation': {'r2': 0.5001992442801332},\n",
       "  'RightHandRing2_Xrotation': {'r2': 0.8771801617564285},\n",
       "  'RightHandRing2_Zrotation': {'r2': 0.37854624765848366},\n",
       "  'RightHandRing3_Xrotation': {'r2': 0.8652083989785875},\n",
       "  'RightHandRing4_Xrotation': {'r2': 0.7899552228861817},\n",
       "  'RightHandPinky2_Xrotation': {'r2': 0.922147848232737},\n",
       "  'RightHandPinky2_Zrotation': {'r2': 0.7940798777108758},\n",
       "  'RightHandPinky3_Xrotation': {'r2': 0.8522380154400191},\n",
       "  'RightHandPinky4_Xrotation': {'r2': 0.7453032663385393}}}"
      ]
     },
     "execution_count": 10,
     "metadata": {},
     "output_type": "execute_result"
    }
   ],
   "source": [
    "out_of"
   ]
  },
  {
   "cell_type": "code",
   "execution_count": null,
   "id": "05cffb8c",
   "metadata": {},
   "outputs": [],
   "source": []
  }
 ],
 "metadata": {
  "kernelspec": {
   "display_name": "Python 3 (ipykernel)",
   "language": "python",
   "name": "python3"
  },
  "language_info": {
   "codemirror_mode": {
    "name": "ipython",
    "version": 3
   },
   "file_extension": ".py",
   "mimetype": "text/x-python",
   "name": "python",
   "nbconvert_exporter": "python",
   "pygments_lexer": "ipython3",
   "version": "3.10.9"
  }
 },
 "nbformat": 4,
 "nbformat_minor": 5
}
